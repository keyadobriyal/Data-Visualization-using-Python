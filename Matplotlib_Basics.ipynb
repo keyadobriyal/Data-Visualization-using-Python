{
  "nbformat": 4,
  "nbformat_minor": 0,
  "metadata": {
    "colab": {
      "provenance": []
    },
    "kernelspec": {
      "name": "python3",
      "display_name": "Python 3"
    },
    "language_info": {
      "name": "python"
    }
  },
  "cells": [
    {
      "cell_type": "markdown",
      "source": [
        "#Data Visualization in Python using Matplotlib\n",
        "\n",
        "##Step-by-step guide — Visualizing the Iris dataset with Matplotlib (Python)\n",
        "\n",
        "###1) Setup: install & import\n",
        "\n",
        "Goal: Get all libraries for Data Wrangling and Visualization\n",
        "You'll need pandas for data manipulation, matplotlib.pyplot for plotting, numpy to convert target array to categorical list and sklearn.datasets to easily load the Iris dataset."
      ],
      "metadata": {
        "id": "nEvf9I1mlZ1S"
      }
    },
    {
      "cell_type": "code",
      "execution_count": null,
      "metadata": {
        "id": "LrdBZEbOkwYV"
      },
      "outputs": [],
      "source": [
        "# (if needed)\n",
        "pip install matplotlib seaborn pandas numpy\n",
        "\n",
        "import pandas as pd\n",
        "import matplotlib.pyplot as plt\n",
        "from sklearn.datasets import load_iris\n",
        "import numpy as np\n",
        "%matplotlib inline                          # only in Jupyter"
      ]
    },
    {
      "cell_type": "markdown",
      "source": [
        "###2) Prepare the Iris dataset\n",
        "\n",
        "Goal: load data as a DataFrame.\n",
        "\n",
        "The load_iris() function returns a Bunch object, which we'll convert into a Pandas DataFrame for easier manipulation and plotting. We also add the species names as a separate column."
      ],
      "metadata": {
        "id": "g4RxSNPflnk7"
      }
    },
    {
      "cell_type": "code",
      "source": [
        "# Load the dataset\n",
        "iris = load_iris()\n",
        "\n",
        "# Create a DataFrame\n",
        "df = pd.DataFrame(data=iris.data, columns=iris.feature_names)\n",
        "\n",
        "# Add the target (species) as a column. The target is an array of 0s, 1s, and 2s.\n",
        "# We map these to the actual species names (Setosa, Versicolor, Virginica).\n",
        "df['species'] = pd.Series(iris.target).apply(lambda x: iris.target_names[x])\n",
        "\n",
        "# Display the first few rows to verify\n",
        "print(df.head())"
      ],
      "metadata": {
        "id": "i4SkxIA5mpmw"
      },
      "execution_count": null,
      "outputs": []
    },
    {
      "cell_type": "markdown",
      "source": [
        "###3) Quick data check (inspect)\n",
        "\n",
        "Goal: understand columns, types, missing values, basic stats."
      ],
      "metadata": {
        "id": "ROYQv7kPmqqw"
      }
    },
    {
      "cell_type": "code",
      "source": [
        "iris.shape, iris.columns\n",
        "iris.head()\n",
        "iris.info()\n",
        "iris.describe()\n",
        "iris.isnull().sum()"
      ],
      "metadata": {
        "id": "XEG8N6qMly41"
      },
      "execution_count": null,
      "outputs": []
    },
    {
      "cell_type": "markdown",
      "source": [
        "##4) Separate Data by Species\n",
        "\n",
        "Goal: Classify species of Iris Flower for comparasion\n",
        "Since the dataset contains three species, for comparision we first filter the DataFrame into three separate ones."
      ],
      "metadata": {
        "id": "aNUbc30cokDE"
      }
    },
    {
      "cell_type": "code",
      "source": [
        "# Filter dataframes for each species\n",
        "setosa = df[df['species'] == 'setosa']\n",
        "versicolor = df[df['species'] == 'versicolor']\n",
        "virginica = df[df['species'] == 'virginica']"
      ],
      "metadata": {
        "id": "y4Gn8j4aoxF1"
      },
      "execution_count": null,
      "outputs": []
    },
    {
      "cell_type": "markdown",
      "source": [
        "##5) Visualize distribution of Single variable — Histogram\n",
        "\n",
        "Goal: see distribution of petal_length.\n",
        "\n",
        "To visualize the distribution of a single feature across all species, histograms are useful. Let's look at the distribution of sepal length."
      ],
      "metadata": {
        "id": "MgW0Qjlbl3EH"
      }
    },
    {
      "cell_type": "code",
      "source": [
        "#Prepare Histogram of Petal Length\n",
        "plt.figure(figsize=(7,4))\n",
        "plt.hist(iris['petal_length'], bins=20, edgecolor='black')\n",
        "plt.title('Distribution of Petal Length')\n",
        "plt.xlabel('Petal length (cm)')\n",
        "plt.ylabel('Count')\n",
        "plt.show()\n",
        "\n",
        "#Similarly we can prepare Histogram of Petal Width, Sepal Length and Sepal Width"
      ],
      "metadata": {
        "id": "KbNp7-7_mJH0"
      },
      "execution_count": null,
      "outputs": []
    },
    {
      "cell_type": "code",
      "source": [
        "#Prepare Histogram of Petal Length of all three species\n",
        "plt.figure(figsize=(10, 6))\n",
        "\n",
        "# Plot histograms for 'sepal length (cm)' for each species\n",
        "plt.hist(setosa['sepal length (cm)'], bins=10, alpha=0.6, label='Setosa')\n",
        "plt.hist(versicolor['sepal length (cm)'], bins=10, alpha=0.6, label='Versicolor')\n",
        "plt.hist(virginica['sepal length (cm)'], bins=10, alpha=0.6, label='Virginica')\n",
        "\n",
        "# Set plot title and labels\n",
        "plt.title('Distribution of Sepal Length by Species')\n",
        "plt.xlabel('Sepal Length (cm)')\n",
        "plt.ylabel('Frequency')\n",
        "\n",
        "# Add a legend\n",
        "plt.legend(loc='upper right')\n",
        "\n",
        "# Display the plot\n",
        "plt.show()"
      ],
      "metadata": {
        "id": "UGAg61eaqg7T"
      },
      "execution_count": null,
      "outputs": []
    },
    {
      "cell_type": "markdown",
      "source": [
        "###6) Two-variable relationship — scatter plot\n",
        "\n",
        "Goal: inspect relationship between sepal_length and sepal_width.\n",
        "\n",
        "A scatter plot is excellent for visualizing the distribution and separation of the three species based on two features. Let's plot sepal length vs. sepal width."
      ],
      "metadata": {
        "id": "HFTvwJeErI66"
      }
    },
    {
      "cell_type": "code",
      "source": [
        "#Scatterplot of sepal length to sepal width\n",
        "plt.figure(figsize=(6,5))\n",
        "plt.scatter(iris['sepal_length'], iris['sepal_width'], s=40, edgecolors='k', alpha=0.7)\n",
        "plt.title('Sepal Length vs Sepal Width')\n",
        "plt.xlabel('Sepal length (cm)')\n",
        "plt.ylabel('Sepal width (cm)')\n",
        "plt.show()\n",
        "\n",
        "#Similarly we can plot scatterplot of petal length to petal width"
      ],
      "metadata": {
        "id": "VKM2ka4YrYOC"
      },
      "execution_count": null,
      "outputs": []
    },
    {
      "cell_type": "code",
      "source": [
        "# We use plt.subplots() to create a figure and a set of axes, which gives us more control over the plot elements.\n",
        "#Create figure and axes\n",
        "fig, ax = plt.subplots(figsize=(8, 6))\n",
        "\n",
        "# Scatter plot for each species\n",
        "ax.scatter(setosa['petal length (cm)'], setosa['petal width (cm)'],\n",
        "           label='Setosa', marker='o', color='blue')\n",
        "ax.scatter(versicolor['petal length (cm)'], versicolor['petal width (cm)'],\n",
        "           label='Versicolor', marker='s', color='green') # 's' is a square marker\n",
        "ax.scatter(virginica['petal length (cm)'], virginica['petal width (cm)'],\n",
        "           label='Virginica', marker='^', color='red') # '^' is a triangle marker\n",
        "\n",
        "# Set plot title and labels\n",
        "ax.set_title('Iris Petal Length vs Petal Width by Species')\n",
        "ax.set_xlabel('Petal Length (cm)')\n",
        "ax.set_ylabel('Petal Width (cm)')\n",
        "\n",
        "# Add a legend\n",
        "ax.legend(loc='upper left')\n",
        "\n",
        "# Add grid lines for readability\n",
        "ax.grid(True, linestyle='--', alpha=0.6)\n",
        "\n",
        "# Display the plot\n",
        "plt.show()"
      ],
      "metadata": {
        "id": "5Yt-ne3DsEmv"
      },
      "execution_count": null,
      "outputs": []
    },
    {
      "cell_type": "code",
      "source": [
        "#Annotate interesting points - Max petal length point\n",
        "#Goal: highlight or label specific datapoints in a scatter.\n",
        "\n",
        "plt.figure(figsize=(6,5))\n",
        "plt.scatter(iris['petal_length'], iris['petal_width'], alpha=0.7)\n",
        "# annotate the max petal_length point\n",
        "idx = iris['petal_length'].idxmax()\n",
        "plt.annotate('max petal length', xy=(iris.loc[idx,'petal_length'], iris.loc[idx,'petal_width']),\n",
        "             xytext=(4.5, 1.5), arrowprops=dict(arrowstyle='->'))\n",
        "plt.xlabel('Petal length (cm)')\n",
        "plt.ylabel('Petal width (cm)')\n",
        "plt.show()\n"
      ],
      "metadata": {
        "id": "G7QK0sS_y9a9"
      },
      "execution_count": null,
      "outputs": []
    },
    {
      "cell_type": "code",
      "source": [
        "#Multi-panel figure (combine plots)\n",
        "#Goal: put related plots side-by-side for comparison\n",
        "\n",
        "fig, ax = plt.subplots(1,2, figsize=(12,5))\n",
        "ax[0].scatter(iris['sepal_length'], iris['sepal_width'])\n",
        "ax[0].set_title('Sepal')\n",
        "ax[0].set_xlabel('Length'); ax[0].set_ylabel('Width')\n",
        "\n",
        "ax[1].scatter(iris['petal_length'], iris['petal_width'])\n",
        "ax[1].set_title('Petal')\n",
        "ax[1].set_xlabel('Length'); ax[1].set_ylabel('Width')\n",
        "\n",
        "plt.tight_layout()\n",
        "plt.show()\n"
      ],
      "metadata": {
        "id": "E5qamiR4zPZC"
      },
      "execution_count": null,
      "outputs": []
    },
    {
      "cell_type": "markdown",
      "source": [
        "###7) Box Plots for Feature Comparison\n",
        "Goal: compare distributions across species for a single feature.\n",
        "\n",
        "Box plots (or box-and-whisker plots) are excellent for visualizing the distribution, central tendency (median), and variability (IQR) of a numerical feature for each categorical group. We can use them to compare the features across the three Iris species."
      ],
      "metadata": {
        "id": "IWz5B6OmtWms"
      }
    },
    {
      "cell_type": "code",
      "source": [
        "#Boxplot of sepal length by species\n",
        "plt.figure(figsize=(8,5))\n",
        "iris.boxplot(column='sepal_length', by='species', grid=False)\n",
        "plt.title('Sepal length by species')\n",
        "plt.suptitle('')   # remove automatic subtitle\n",
        "plt.xlabel('Species')\n",
        "plt.ylabel('Sepal length (cm)')\n",
        "plt.show()\n"
      ],
      "metadata": {
        "id": "Ug0DBay5uCU1"
      },
      "execution_count": null,
      "outputs": []
    },
    {
      "cell_type": "code",
      "source": [
        "# 1. Prepare data for plotting\n",
        "# Create a list of sepal width data, grouped by species\n",
        "sepal_width_data = [\n",
        "    df[df['species'] == 'setosa']['sepal width (cm)'],\n",
        "    df[df['species'] == 'versicolor']['sepal width (cm)'],\n",
        "    df[df['species'] == 'virginica']['sepal width (cm)']\n",
        "]\n",
        "\n",
        "# 2. Create the plot\n",
        "fig, ax = plt.subplots(figsize=(8, 6))\n",
        "\n",
        "# The boxplot function takes a list of arrays (one for each box)\n",
        "ax.boxplot(sepal_width_data, patch_artist=True,  # Fill boxes with color\n",
        "           medianprops={'color': 'black'})     # Style the median line\n",
        "\n",
        "# 3. Customize the plot\n",
        "ax.set_xticklabels(df['species'].unique())\n",
        "ax.set_title('Box Plot of Sepal Width by Iris Species')\n",
        "ax.set_xlabel('Species')\n",
        "ax.set_ylabel('Sepal Width (cm)')\n",
        "ax.grid(axis='y', linestyle='--', alpha=0.7) # Add horizontal grid lines\n",
        "\n",
        "# Display the plot\n",
        "plt.show()\n"
      ],
      "metadata": {
        "id": "xrXDJlb2tVYo"
      },
      "execution_count": null,
      "outputs": []
    },
    {
      "cell_type": "markdown",
      "source": [
        "Observation: A box plot clearly shows that Iris-setosa generally has a larger sepal width compared to the other two species, with its box positioned higher on the y-axis.\n",
        "\n",
        "###8) Violin Plot (Alternative to BoxPlot)\n",
        "Goal: show KDE + distribution shape per species\n",
        "\n",
        "The violin plot visualizes the distribution of Petal Length for each species, combining the information of a box plot with a kernel density estimate.\n",
        "\n",
        "Here we shall be using (matplotlib via seaborn)."
      ],
      "metadata": {
        "id": "jWvQ8CyItxvK"
      }
    },
    {
      "cell_type": "code",
      "source": [
        "import seaborn as sns\n",
        "plt.figure(figsize=(8,5))\n",
        "sns.violinplot(x='species', y='petal_length', data=iris)\n",
        "plt.title('Petal length distribution by species')\n",
        "plt.show()\n"
      ],
      "metadata": {
        "id": "IskiIgj7wiqe"
      },
      "execution_count": null,
      "outputs": []
    },
    {
      "cell_type": "code",
      "source": [
        "#Generating Violin Plot with better visualization\n",
        "plt.figure(figsize=(10, 6))\n",
        "\n",
        "# Generate the Violin Plot for Petal Length by Species\n",
        "sns.violinplot(\n",
        "    x='species',\n",
        "    y='petal length (cm)',\n",
        "    data=df,\n",
        "    inner='quartile', # Displays the quartiles (25th, 50th/median, 75th percentile)\n",
        "    palette='viridis' # Color palette\n",
        ")\n",
        "\n",
        "plt.title('Violin Plot of Petal Length by Iris Species')\n",
        "plt.xlabel('Species')\n",
        "plt.ylabel('Petal Length (cm)')\n",
        "plt.grid(axis='y', linestyle='--', alpha=0.7)\n",
        "plt.show()"
      ],
      "metadata": {
        "id": "2jVG0Z13wyVt"
      },
      "execution_count": null,
      "outputs": []
    },
    {
      "cell_type": "markdown",
      "source": [
        "Violin Plot: Petal Length Distribution\n",
        "\n",
        "The violin plot visualizes the distribution of Petal Length for each species, combining the information of a box plot with a kernel density estimate.\n",
        "\n",
        "Setosa (Blue): Shows a very tight, narrow distribution with small petal lengths.\n",
        "\n",
        "Versicolor (Green): Exhibits a wider, more spread-out distribution in the middle range.\n",
        "\n",
        "Virginica (Yellow): Has the largest petal lengths, with a distribution that is also relatively wide.\n",
        "\n",
        "The plot shows the stark separation of the three species based on petal length, which is a strong feature for classification."
      ],
      "metadata": {
        "id": "uZo6_rbBxt9h"
      }
    },
    {
      "cell_type": "markdown",
      "source": [
        "###9) Bar Chart for Mean Feature Values\n",
        "Goal: Display Mean Value Features\n",
        "\n",
        "A bar chart can effectively compare the average (mean) value of a feature across the different species."
      ],
      "metadata": {
        "id": "zmPClTr7xIMS"
      }
    },
    {
      "cell_type": "code",
      "source": [
        "# 1. Calculate the mean petal length for each species\n",
        "mean_petal_length = df.groupby('species')['petal length (cm)'].mean()\n",
        "\n",
        "# 2. Create the plot\n",
        "fig, ax = plt.subplots(figsize=(8, 6))\n",
        "\n",
        "# The bar function is used to create the bar chart\n",
        "# x-axis are the species names, y-axis are the mean values\n",
        "bars = ax.bar(mean_petal_length.index, mean_petal_length.values, color=['blue', 'green', 'red'], alpha=0.7)\n",
        "\n",
        "# 3. Customize the plot\n",
        "ax.set_title('Mean Petal Length by Iris Species')\n",
        "ax.set_xlabel('Species')\n",
        "ax.set_ylabel('Mean Petal Length (cm)')\n",
        "\n",
        "# Optional: Add the mean value on top of each bar\n",
        "for bar in bars:\n",
        "    height = bar.get_height()\n",
        "    ax.text(bar.get_x() + bar.get_width()/2., height + 0.05,\n",
        "            f'{height:.2f}',\n",
        "            ha='center', va='bottom')\n",
        "\n",
        "# Display the plot\n",
        "plt.show()"
      ],
      "metadata": {
        "id": "DrCbSfYwxUsN"
      },
      "execution_count": null,
      "outputs": []
    },
    {
      "cell_type": "markdown",
      "source": [
        "Observation: The bar chart visually confirms that the species are well-separated based on this feature, with Iris-virginica having the largest mean petal length and Iris-setosa the smallest."
      ],
      "metadata": {
        "id": "5gWu8LA5yMvt"
      }
    },
    {
      "cell_type": "markdown",
      "source": [
        "\n",
        "###10) Correlation heatmap (feature correlation)\n",
        "\n",
        "Goal: spot strongly/weakly correlated numeric features.\n",
        "\n",
        "The heatmap displays the pairwise Pearson correlation coefficient for all four numerical features in the dataset. Values close to $1$ (red) indicate a strong positive correlation, while values close to $-1$ (blue) indicate a strong negative correlation."
      ],
      "metadata": {
        "id": "eS_rAM7wxcND"
      }
    },
    {
      "cell_type": "code",
      "source": [
        "corr = iris.iloc[:, :-1].corr()   # drop species\n",
        "plt.figure(figsize=(5,4))\n",
        "plt.imshow(corr, cmap='viridis', interpolation='nearest')\n",
        "plt.colorbar(label='corr')\n",
        "plt.xticks(range(len(corr)), corr.columns, rotation=45)\n",
        "plt.yticks(range(len(corr)), corr.columns)\n",
        "plt.title('Feature Correlation Matrix')\n",
        "plt.show()\n"
      ],
      "metadata": {
        "id": "C-yVZAKWyTsL"
      },
      "execution_count": null,
      "outputs": []
    },
    {
      "cell_type": "code",
      "source": [
        "# Select only the numeric features for correlation calculation\n",
        "numeric_df = df.drop(columns=['species'])\n",
        "correlation_matrix = numeric_df.corr()\n",
        "\n",
        "# Create the Heatmap\n",
        "plt.figure(figsize=(8, 6))\n",
        "sns.heatmap(\n",
        "    correlation_matrix,\n",
        "    annot=True,     # Display the correlation values on the map\n",
        "    cmap='coolwarm', # Color scheme: cool for negative, warm for positive\n",
        "    fmt=\".2f\",      # Format annotations to two decimal places\n",
        "    linewidths=.5,\n",
        "    linecolor='black'\n",
        ")\n",
        "plt.title('Correlation Heatmap of Iris Dataset Features')\n",
        "plt.show()"
      ],
      "metadata": {
        "id": "JDzQlN6DydbL"
      },
      "execution_count": null,
      "outputs": []
    },
    {
      "cell_type": "markdown",
      "source": [
        "###11 Save Figures\n",
        "Goal: export a plot to PNG (or PDF/SVG).\n",
        "\n",
        "To save the plots we generated earlier (Scatter Plot, Histogram, Box Plot, Violin Plot, and Heatmap) using Matplotlib's plt.savefig() function.\n",
        "\n",
        "You simply replace plt.show() with plt.savefig('your_filename.png') within your plotting code blocks."
      ],
      "metadata": {
        "id": "N08zPE-Tzwr1"
      }
    },
    {
      "cell_type": "code",
      "source": [
        "plt.figure(figsize=(6,4))\n",
        "plt.scatter(iris['petal_length'], iris['petal_width'])\n",
        "plt.title('Petal Length vs Width')\n",
        "plt.savefig('iris_petal_scatter.png', dpi=300, bbox_inches='tight')\n",
        "plt.close()   # close when running scripts\n"
      ],
      "metadata": {
        "id": "02r5bbdjz6AV"
      },
      "execution_count": null,
      "outputs": []
    },
    {
      "cell_type": "code",
      "source": [
        "import pandas as pd\n",
        "from sklearn.datasets import load_iris\n",
        "import matplotlib.pyplot as plt\n",
        "import seaborn as sns\n",
        "\n",
        "# --- 1. Data Preparation ---\n",
        "iris = load_iris()\n",
        "df = pd.DataFrame(data=iris.data, columns=iris.feature_names)\n",
        "df['species'] = pd.Series(iris.target).apply(lambda x: iris.target_names[x])\n",
        "\n",
        "setosa = df[df['species'] == 'setosa']\n",
        "versicolor = df[df['species'] == 'versicolor']\n",
        "virginica = df[df['species'] == 'virginica']\n",
        "\n",
        "# =======================================================\n",
        "## 1. Scatter Plot (Petal Length vs. Petal Width)\n",
        "# =======================================================\n",
        "fig, ax = plt.subplots(figsize=(8, 6))\n",
        "ax.scatter(setosa['petal length (cm)'], setosa['petal width (cm)'], label='Setosa', marker='o', color='blue')\n",
        "ax.scatter(versicolor['petal length (cm)'], versicolor['petal width (cm)'], label='Versicolor', marker='s', color='green')\n",
        "ax.scatter(virginica['petal length (cm)'], virginica['petal width (cm)'], label='Virginica', marker='^', color='red')\n",
        "ax.set_title('Iris Petal Length vs Petal Width by Species')\n",
        "ax.set_xlabel('Petal Length (cm)')\n",
        "ax.set_ylabel('Petal Width (cm)')\n",
        "ax.legend(loc='upper left')\n",
        "ax.grid(True, linestyle='--', alpha=0.6)\n",
        "\n",
        "# Save the plot\n",
        "plt.savefig('iris_scatter_plot.png')\n",
        "plt.close(fig) # Close the figure to free up memory\n",
        "\n",
        "# =======================================================\n",
        "## 2. Histogram (Sepal Length Distribution)\n",
        "# =======================================================\n",
        "fig, ax = plt.subplots(figsize=(10, 6))\n",
        "plt.hist(setosa['sepal length (cm)'], bins=10, alpha=0.6, label='Setosa')\n",
        "plt.hist(versicolor['sepal length (cm)'], bins=10, alpha=0.6, label='Versicolor')\n",
        "plt.hist(virginica['sepal length (cm)'], bins=10, alpha=0.6, label='Virginica')\n",
        "plt.title('Distribution of Sepal Length by Species')\n",
        "plt.xlabel('Sepal Length (cm)')\n",
        "plt.ylabel('Frequency')\n",
        "plt.legend(loc='upper right')\n",
        "\n",
        "# Save the plot\n",
        "plt.savefig('iris_histogram.png')\n",
        "plt.close(fig)\n",
        "\n",
        "# =======================================================\n",
        "## 3. Box Plot (Sepal Width Comparison)\n",
        "# =======================================================\n",
        "sepal_width_data = [\n",
        "    df[df['species'] == 'setosa']['sepal width (cm)'],\n",
        "    df[df['species'] == 'versicolor']['sepal width (cm)'],\n",
        "    df[df['species'] == 'virginica']['sepal width (cm)']\n",
        "]\n",
        "fig, ax = plt.subplots(figsize=(8, 6))\n",
        "ax.boxplot(sepal_width_data, patch_artist=True, medianprops={'color': 'black'})\n",
        "ax.set_xticklabels(df['species'].unique())\n",
        "ax.set_title('Box Plot of Sepal Width by Iris Species')\n",
        "ax.set_xlabel('Species')\n",
        "ax.set_ylabel('Sepal Width (cm)')\n",
        "ax.grid(axis='y', linestyle='--', alpha=0.7)\n",
        "\n",
        "# Save the plot\n",
        "plt.savefig('iris_box_plot.png')\n",
        "plt.close(fig)\n",
        "\n",
        "# =======================================================\n",
        "## 4. Violin Plot (Petal Length Distribution - using Seaborn)\n",
        "# =======================================================\n",
        "fig, ax = plt.subplots(figsize=(10, 6))\n",
        "sns.violinplot(x='species', y='petal length (cm)', data=df, inner='quartile', palette='viridis', ax=ax)\n",
        "ax.set_title('Violin Plot of Petal Length by Iris Species')\n",
        "ax.set_xlabel('Species')\n",
        "ax.set_ylabel('Petal Length (cm)')\n",
        "ax.grid(axis='y', linestyle='--', alpha=0.7)\n",
        "\n",
        "# Save the plot\n",
        "plt.savefig('iris_violin_plot.png')\n",
        "plt.close(fig)\n",
        "\n",
        "# =======================================================\n",
        "## 5. Correlation Heatmap (using Seaborn)\n",
        "# =======================================================\n",
        "numeric_df = df.drop(columns=['species'])\n",
        "correlation_matrix = numeric_df.corr()\n",
        "\n",
        "fig, ax = plt.subplots(figsize=(8, 6))\n",
        "sns.heatmap(\n",
        "    correlation_matrix,\n",
        "    annot=True,\n",
        "    cmap='coolwarm',\n",
        "    fmt=\".2f\",\n",
        "    linewidths=.5,\n",
        "    linecolor='black',\n",
        "    ax=ax\n",
        ")\n",
        "ax.set_title('Correlation Heatmap of Iris Dataset Features')\n",
        "\n",
        "# Save the plot\n",
        "plt.savefig('iris_correlation_heatmap.png')\n",
        "plt.close(fig)\n",
        "\n",
        "print(\"All five plots have been saved as PNG files in the current directory.\")"
      ],
      "metadata": {
        "id": "YyABnpE10Tj9"
      },
      "execution_count": null,
      "outputs": []
    },
    {
      "cell_type": "markdown",
      "source": [
        "###Extra Visualization - Line Plot\n",
        "\n",
        "A line plot isn't typically used to show relationships between features for this kind of dataset, but it can be used to visualize the value of a single feature (Petal Length) across the order of the samples in the dataset, colored by species."
      ],
      "metadata": {
        "id": "pJOriLF9B0Tk"
      }
    },
    {
      "cell_type": "code",
      "source": [
        "# --- Line Plot Code ---\n",
        "plt.figure(figsize=(12, 6))\n",
        "\n",
        "species_colors = {'setosa': 'blue', 'versicolor': 'green', 'virginica': 'red'}\n",
        "\n",
        "for species_name, color in species_colors.items():\n",
        "    # Filter data for the current species\n",
        "    species_data = df[df['species'] == species_name]\n",
        "\n",
        "    # Plot Petal Length against its original index (sample order)\n",
        "    plt.plot(species_data.index, species_data['petal length (cm)'],\n",
        "             label=species_name,\n",
        "             color=color,\n",
        "             alpha=0.7,\n",
        "             linestyle='-')\n",
        "\n",
        "plt.title('Line Plot of Petal Length Across Dataset Samples by Species')\n",
        "plt.xlabel('Sample Index')\n",
        "plt.ylabel('Petal Length (cm)')\n",
        "plt.legend(title='Species')\n",
        "plt.grid(axis='y', linestyle='--', alpha=0.5)\n",
        "\n",
        "# Save the plot\n",
        "plt.savefig('iris_line_plot.png')\n",
        "plt.show()"
      ],
      "metadata": {
        "id": "RzRtSI-PB5wK"
      },
      "execution_count": null,
      "outputs": []
    },
    {
      "cell_type": "markdown",
      "source": [
        "A bubble plot is essentially a scatter plot where a third variable (and sometimes a fourth) is represented by the size of the marker (bubble).\n",
        "\n",
        "In this plot:\n",
        "\n",
        "X-axis: sepal length (cm)\n",
        "\n",
        "Y-axis: sepal width (cm)\n",
        "\n",
        "Bubble Size (s): petal length (cm) (scaled up for visibility)\n",
        "\n",
        "Bubble Color (c): species\n",
        "\n",
        "This visualization allows you to see how sepal dimensions relate to petal size and species simultaneously."
      ],
      "metadata": {
        "id": "lLKtf8HaC3DU"
      }
    },
    {
      "cell_type": "code",
      "source": [
        "# --- Bubble Plot Code ---\n",
        "plt.figure(figsize=(10, 8))\n",
        "\n",
        "# Create a temporary 'target' column for color mapping\n",
        "df['target'] = iris.target\n",
        "\n",
        "# Create the scatter plot\n",
        "scatter = plt.scatter(x=df['sepal length (cm)'],\n",
        "                      y=df['sepal width (cm)'],\n",
        "                      s=df['petal length (cm)'] * 50, # Size factor for visibility\n",
        "                      c=df['target'],                  # Color based on target\n",
        "                      cmap='viridis',\n",
        "                      alpha=0.6,\n",
        "                      edgecolors='w',\n",
        "                      linewidth=0.5)\n",
        "\n",
        "# Create a legend for the colors (Species)\n",
        "legend1 = plt.legend(*scatter.legend_elements(),\n",
        "                     title=\"Species\",\n",
        "                     labels=iris.target_names,\n",
        "                     loc=\"lower left\")\n",
        "plt.gca().add_artist(legend1)\n",
        "\n",
        "# Create a legend for the sizes (Petal Length)\n",
        "# This uses specific points for the size legend\n",
        "handles, labels = scatter.legend_elements(prop=\"sizes\", alpha=0.6, num=[1, 2, 4, 6])\n",
        "legend2 = plt.legend(handles, ['<1cm', '2cm', '4cm', '>6cm'],\n",
        "                     loc=\"upper right\",\n",
        "                     title=\"Petal Length (cm)\")\n",
        "\n",
        "plt.title('Bubble Plot: Sepal Dimensions, Petal Length as Bubble Size')\n",
        "plt.xlabel('Sepal Length (cm)')\n",
        "plt.ylabel('Sepal Width (cm)')\n",
        "plt.grid(True, linestyle='--', alpha=0.4)\n",
        "\n",
        "# Save the plot\n",
        "plt.savefig('iris_bubble_plot.png')\n",
        "plt.show()"
      ],
      "metadata": {
        "id": "723Aj0TBC4k_"
      },
      "execution_count": null,
      "outputs": []
    }
  ]
}