{
  "nbformat": 4,
  "nbformat_minor": 0,
  "metadata": {
    "colab": {
      "provenance": []
    },
    "kernelspec": {
      "name": "python3",
      "display_name": "Python 3"
    },
    "language_info": {
      "name": "python"
    }
  },
  "cells": [
    {
      "cell_type": "markdown",
      "source": [
        "#Data Visualization in Python using Matplotlib\n",
        "\n",
        "##Step-by-step guide — Visualizing the Iris dataset\n",
        "\n",
        "###1) Setup: install & import\n",
        "\n",
        "Goal: Get all libraries for Data Wrangling and Visualization\n",
        "You'll need pandas for data manipulation, matplotlib.pyplot for plotting, numpy to convert target array to categorical list and sklearn.datasets to easily load the Iris dataset."
      ],
      "metadata": {
        "id": "nEvf9I1mlZ1S"
      }
    },
    {
      "cell_type": "code",
      "execution_count": null,
      "metadata": {
        "id": "LrdBZEbOkwYV"
      },
      "outputs": [],
      "source": [
        "# (if needed)\n",
        "# pip install matplotlib seaborn pandas numpy\n",
        "\n",
        "import pandas as pd\n",
        "import matplotlib.pyplot as plt\n",
        "from sklearn.datasets import load_iris\n",
        "import numpy as np\n",
        "\n",
        "# only in Jupyter\n",
        "%matplotlib inline"
      ]
    },
    {
      "cell_type": "markdown",
      "source": [
        "###2) Prepare the Iris dataset\n",
        "\n",
        "Goal: load data as a DataFrame.\n",
        "\n",
        "The load_iris() function returns a Bunch object, which we'll convert into a Pandas DataFrame for easier manipulation and plotting. We also add the species names as a separate column."
      ],
      "metadata": {
        "id": "g4RxSNPflnk7"
      }
    },
    {
      "cell_type": "code",
      "source": [
        "# Load the dataset\n",
        "iris = load_iris()\n",
        "\n",
        "# Create a DataFrame\n",
        "df = pd.DataFrame(data=iris.data, columns=iris.feature_names)\n",
        "\n",
        "# Add the target (species) as a column. The target is an array of 0s, 1s, and 2s.\n",
        "# We map these to the actual species names (Setosa, Versicolor, Virginica).\n",
        "df['species'] = pd.Series(iris.target).apply(lambda x: iris.target_names[x])\n"
      ],
      "metadata": {
        "id": "i4SkxIA5mpmw"
      },
      "execution_count": null,
      "outputs": []
    },
    {
      "cell_type": "markdown",
      "source": [
        "###3) Quick data check (inspect)\n",
        "\n",
        "Goal: understand columns, types, missing values, basic stats.\n",
        "\n",
        "| Step\t| Purpose |\n",
        "| --- | --- |\n",
        "| head()\t| Shows the first 5 rows for a quick preview of the dataset. |\n",
        "| info()\t| Provides data types, memory usage, and non-null counts. |\n",
        "| describe()\t| Displays summary statistics (mean, std, min, max, etc.). |\n",
        "| isnull().sum()\t| Checks for any missing values. |\n",
        "| unique()\t| Confirms the unique class labels (species names). |"
      ],
      "metadata": {
        "id": "ROYQv7kPmqqw"
      }
    },
    {
      "cell_type": "code",
      "source": [
        "# Display the first few rows to verify\n",
        "print(\"🔹 First 5 Rows:\")\n",
        "print(df.head(), \"\\n\")\n",
        "print(\"🔹 Dataset Shape:\")\n",
        "print(df.shape, \"\\n\")"
      ],
      "metadata": {
        "id": "LDXDWzSiSbbn"
      },
      "execution_count": null,
      "outputs": []
    },
    {
      "cell_type": "code",
      "source": [
        "\n",
        "#Provide data type\n",
        "print(\"🔹 Dataset Info:\")\n",
        "print(df.info(), \"\\n\")"
      ],
      "metadata": {
        "id": "XEG8N6qMly41"
      },
      "execution_count": null,
      "outputs": []
    },
    {
      "cell_type": "code",
      "source": [
        "print(\"🔹 Summary Statistics:\")\n",
        "print(df.describe(), \"\\n\")"
      ],
      "metadata": {
        "id": "Vw-sh1pNRVYK"
      },
      "execution_count": null,
      "outputs": []
    },
    {
      "cell_type": "code",
      "source": [
        "#Check for any missiong values\n",
        "print(\"🔹 Missing Values:\")\n",
        "print(df.isnull().sum(), \"\\n\")"
      ],
      "metadata": {
        "id": "ZeXBA7HKRVKa"
      },
      "execution_count": null,
      "outputs": []
    },
    {
      "cell_type": "code",
      "source": [
        "#Display unique class labels\n",
        "print(\"🔹 Unique Species:\")\n",
        "print(df['species'].unique())"
      ],
      "metadata": {
        "id": "8vC3qNAmSq10"
      },
      "execution_count": null,
      "outputs": []
    },
    {
      "cell_type": "markdown",
      "source": [
        "##4) Separate Data by Species\n",
        "\n",
        "Goal: Classify species of Iris Flower for comparasion\n",
        "Since the dataset contains three species, for comparision we first filter the DataFrame into three separate ones."
      ],
      "metadata": {
        "id": "aNUbc30cokDE"
      }
    },
    {
      "cell_type": "code",
      "source": [
        "# Filter dataframes for each species\n",
        "setosa = df[df['species'] == 'setosa']\n",
        "versicolor = df[df['species'] == 'versicolor']\n",
        "virginica = df[df['species'] == 'virginica']"
      ],
      "metadata": {
        "id": "y4Gn8j4aoxF1"
      },
      "execution_count": null,
      "outputs": []
    },
    {
      "cell_type": "markdown",
      "source": [
        "##5) Visualize distribution of Single variable — Histogram\n",
        "\n",
        "Goal: see distribution of petal_length.\n",
        "\n",
        "Histograms are helpful for visualizing the distribution of a single feature across all species. We'll start by examining the sepal length distribution."
      ],
      "metadata": {
        "id": "MgW0Qjlbl3EH"
      }
    },
    {
      "cell_type": "code",
      "source": [
        "#Prepare Histogram of Petal Length\n",
        "plt.figure(figsize=(10,6))\n",
        "plt.hist(df['petal length (cm)'], bins=20, edgecolor='black')\n",
        "plt.title('Distribution of Petal Length')\n",
        "plt.xlabel('Petal length (cm)')\n",
        "plt.ylabel('Count')\n",
        "plt.show()\n",
        "\n",
        "#Similarly we can prepare Histogram of Petal Width, Sepal Length and Sepal Width"
      ],
      "metadata": {
        "id": "KbNp7-7_mJH0"
      },
      "execution_count": null,
      "outputs": []
    },
    {
      "cell_type": "code",
      "source": [
        "#Prepare Histogram of Sepal Length of all three species\n",
        "plt.figure(figsize=(10, 6))\n",
        "\n",
        "# Plot histograms for 'sepal length (cm)' for each species\n",
        "plt.hist(setosa['sepal length (cm)'], bins=10, alpha=0.6, label='Setosa')\n",
        "plt.hist(versicolor['sepal length (cm)'], bins=10, alpha=0.6, label='Versicolor')\n",
        "plt.hist(virginica['sepal length (cm)'], bins=10, alpha=0.6, label='Virginica')\n",
        "\n",
        "# Set plot title and labels\n",
        "plt.title('Distribution of Sepal Length by Species')\n",
        "plt.xlabel('Sepal Length (cm)')\n",
        "plt.ylabel('Frequency')\n",
        "\n",
        "# Add a legend\n",
        "plt.legend(loc='upper right')\n",
        "\n",
        "# Display the plot\n",
        "plt.show()"
      ],
      "metadata": {
        "id": "UGAg61eaqg7T"
      },
      "execution_count": null,
      "outputs": []
    },
    {
      "cell_type": "markdown",
      "source": [
        "###Group Histogram:\n",
        "\n",
        "Python allows to display histogram of all numeric data from the dataframe"
      ],
      "metadata": {
        "id": "06sjum0Ncgid"
      }
    },
    {
      "cell_type": "code",
      "source": [
        "# 1. Setup the figure size and call df.hist\n",
        "fig = plt.figure(figsize=(10, 6))\n",
        "\n",
        "# df.hist returns an array of axes objects.\n",
        "# We use fig.gca() to ensure it plots on the existing figure.\n",
        "ax = df.hist(\n",
        "    edgecolor='black',\n",
        "    linewidth=1,\n",
        "    ax=fig.gca(),\n",
        "    bins=15,          # Specify the number of bins for detail\n",
        "    grid=False        # Disable default pandas grid to customize later\n",
        ")\n",
        "\n",
        "# 2. Add an overall title\n",
        "fig.suptitle('Distribution of Iris Dataset Features', fontsize=16, y=1.02)\n",
        "\n",
        "# 3. Iterate through all subplots to apply styling\n",
        "# We flatten the array of axes for easy iteration (it's a 2x2 grid)\n",
        "for subplot in ax.flatten():\n",
        "    # Set y-axis grid lines for readability\n",
        "    subplot.grid(axis='y', linestyle='--', alpha=0.6)\n",
        "\n",
        "    # Customizing Axes Labels\n",
        "    feature_name = subplot.get_title()\n",
        "    # Clean up the title/label for a professional look\n",
        "    subplot.set_xlabel(f\"{feature_name.replace(' (cm)', '')} (cm)\", fontsize=10)\n",
        "    subplot.set_ylabel(\"Frequency\", fontsize=10)\n",
        "\n",
        "    # Customize histogram color (using a light blue)\n",
        "    for patch in subplot.patches:\n",
        "        patch.set_facecolor('skyblue')\n",
        "\n",
        "\n",
        "# 4. Adjust layout for perfect fit\n",
        "plt.tight_layout(rect=[0, 0, 1, 0.98]) # Adjust rect to account for suptitle\n",
        "\n",
        "plt.show()\n",
        "plt.savefig('beautified_df_hist.png')"
      ],
      "metadata": {
        "id": "RFHrMtPDcjAY"
      },
      "execution_count": null,
      "outputs": []
    },
    {
      "cell_type": "code",
      "source": [
        "# Create subplots with one row and three columns for Sepal Length\n",
        "fig, axes = plt.subplots(nrows=1, ncols=3, figsize=(15, 6))\n",
        "\n",
        "# Plot histograms on each subplot\n",
        "'''\n",
        "The alpha parameter adjusts the transparency of the elements.\n",
        "It takes values between 0 (completely transparent) and 1 (completely opaque).\n",
        "'''\n",
        "axes[0].hist(setosa[\"sepal length (cm)\"], bins=20, color='blue', alpha=0.7)\n",
        "axes[0].set_title('Iris Setosa - Sepal Length')\n",
        "axes[0].set_ylabel('Frequency')\n",
        "\n",
        "axes[1].hist(versicolor[\"sepal length (cm)\"], bins=20, color='green', alpha=0.7)\n",
        "axes[1].set_title('Iris Versicolor - Sepal Length')\n",
        "\n",
        "axes[2].hist(virginica[\"sepal length (cm)\"], bins=20, color='orange', alpha=0.7)\n",
        "axes[2].set_title('Iris Virginica - Sepal Length')\n",
        "\n",
        "# Adjust layout to prevent clipping of titles\n",
        "plt.tight_layout()\n",
        "\n",
        "# Show the plots\n",
        "plt.show()\n"
      ],
      "metadata": {
        "id": "DwoYYYiWdx-S"
      },
      "execution_count": null,
      "outputs": []
    },
    {
      "cell_type": "markdown",
      "source": [
        "Species-wise Histogram Visualization"
      ],
      "metadata": {
        "id": "CvvvO4INw9Fb"
      }
    },
    {
      "cell_type": "code",
      "source": [
        "# Define the features to plot\n",
        "features = iris.feature_names\n",
        "species = df['species'].unique()\n",
        "colors = ['blue', 'green', 'orange']\n",
        "\n",
        "# Create subplots\n",
        "fig, axes = plt.subplots(2, 2, figsize=(12, 8))\n",
        "axes = axes.flatten()\n",
        "\n",
        "# Plot histograms for each feature\n",
        "for i, feature in enumerate(features):\n",
        "    for sp, color in zip(species, colors):\n",
        "        subset = df[df['species'] == sp]\n",
        "        axes[i].hist(subset[feature],\n",
        "                     bins=15,\n",
        "                     alpha=0.6,\n",
        "                     label=sp,\n",
        "                     color=color,\n",
        "                     edgecolor='black',\n",
        "                     linewidth=0.8)\n",
        "    axes[i].set_title(f'Distribution of {feature}', fontsize=11)\n",
        "    axes[i].set_xlabel(feature)\n",
        "    axes[i].set_ylabel('Frequency')\n",
        "    axes[i].legend()\n",
        "\n",
        "# Adjust layout for better spacing\n",
        "plt.suptitle('Species-wise Histograms of Iris Flower Features', fontsize=14, fontweight='bold')\n",
        "plt.tight_layout(rect=[0, 0, 1, 0.96])\n",
        "\n",
        "# Show the plots\n",
        "plt.show()"
      ],
      "metadata": {
        "id": "EPVTOyE9xEUt"
      },
      "execution_count": null,
      "outputs": []
    },
    {
      "cell_type": "markdown",
      "source": [
        "###Density Plot:\n",
        "\n",
        "A Density Plot, also known as a Kernel Density Estimate (KDE) plot, is a smoothed version of a histogram. It shows the probability density function of a variable, providing a continuous visual representation of the distribution of the data. Density plot can be plotted using seaborn library"
      ],
      "metadata": {
        "id": "OcQrVV5ob5-A"
      }
    },
    {
      "cell_type": "code",
      "source": [
        "#Plot density Plot of all numerical data\n",
        "df.plot(kind = \"density\", figsize=(10,6))"
      ],
      "metadata": {
        "id": "lo84B3i8abIQ"
      },
      "execution_count": null,
      "outputs": []
    },
    {
      "cell_type": "code",
      "source": [
        "# --- Density Plot (KDE Plot) Generation ---\n",
        "#Import sns library\n",
        "import seaborn as sns\n",
        "\n",
        "#Set Figure Size\n",
        "plt.figure(figsize=(10, 6))\n",
        "\n",
        "# Use Seaborn's kdeplot.\n",
        "# 'hue' separates the distributions by species.\n",
        "# 'fill=True' colors the area under the curve.\n",
        "sns.kdeplot(data=df,\n",
        "            x='petal length (cm)',\n",
        "            hue='species',\n",
        "            fill=True,\n",
        "            alpha=0.5,\n",
        "            linewidth=2)\n",
        "\n",
        "plt.title('Density Plot (KDE) of Petal Length by Iris Species')\n",
        "plt.xlabel('Petal Length (cm)')\n",
        "plt.ylabel('Density')\n",
        "plt.grid(axis='y', linestyle='--', alpha=0.5)\n",
        "\n",
        "plt.show()"
      ],
      "metadata": {
        "id": "sBRB599HaHaH"
      },
      "execution_count": null,
      "outputs": []
    },
    {
      "cell_type": "markdown",
      "source": [
        "Species-wise Histogram with KDE Curves — Iris Dataset"
      ],
      "metadata": {
        "id": "82F5kir7xMlJ"
      }
    },
    {
      "cell_type": "code",
      "source": [
        "# --- Species-wise Histogram with KDE Curves using Seaborn & Matplotlib ---\n",
        "# Set Seaborn style for better aesthetics\n",
        "sns.set(style=\"whitegrid\")\n",
        "\n",
        "# Create subplots for all features\n",
        "fig, axes = plt.subplots(2, 2, figsize=(12, 8))\n",
        "axes = axes.flatten()\n",
        "\n",
        "# Plot histogram + KDE for each feature\n",
        "for i, feature in enumerate(features):\n",
        "    sns.histplot(\n",
        "        data=df,\n",
        "        x=feature,\n",
        "        hue='species',        # Color separation by species\n",
        "        kde=True,             # Overlay KDE curves\n",
        "        bins=15,\n",
        "        palette='viridis',    # Attractive, colorblind-friendly palette\n",
        "        alpha=0.6,\n",
        "        ax=axes[i],\n",
        "        edgecolor='black',\n",
        "        linewidth=0.8\n",
        "    )\n",
        "    axes[i].set_title(f'Distribution of {feature}', fontsize=11, fontweight='bold')\n",
        "    axes[i].set_xlabel(feature)\n",
        "    axes[i].set_ylabel('Frequency')\n",
        "\n",
        "# Adjust layout and title\n",
        "plt.suptitle('Species-wise Feature Distribution in Iris Dataset (Histogram + KDE)',\n",
        "             fontsize=14, fontweight='bold')\n",
        "plt.tight_layout(rect=[0, 0, 1, 0.96])\n",
        "\n",
        "# Show plot\n",
        "plt.show()"
      ],
      "metadata": {
        "id": "LmL-mhyexUQY"
      },
      "execution_count": null,
      "outputs": []
    },
    {
      "cell_type": "markdown",
      "source": [
        "###6) Visualize trend of Single Variable - Line Plot\n",
        "\n",
        "Goal: inspect trend of data\n",
        "\n",
        "A line plot isn't typically used to show relationships between features for this kind of dataset, but it can be used to visualize the value of a single feature (Petal Length) across the order of the samples in the dataset, colored by species."
      ],
      "metadata": {
        "id": "a7NWxQQtb8pP"
      }
    },
    {
      "cell_type": "code",
      "source": [
        "# --- Line Plot Code ---\n",
        "plt.figure(figsize=(10, 6))\n",
        "\n",
        "species_colors = {'setosa': 'blue', 'versicolor': 'green', 'virginica': 'red'}\n",
        "\n",
        "for species_name, color in species_colors.items():\n",
        "    # Filter data for the current species\n",
        "    species_data = df[df['species'] == species_name]\n",
        "\n",
        "    # Plot Petal Length against its original index (sample order)\n",
        "    plt.plot(species_data.index, species_data['petal length (cm)'],\n",
        "             label=species_name,\n",
        "             color=color,\n",
        "             alpha=0.7,\n",
        "             linestyle='-')\n",
        "\n",
        "plt.title('Line Plot of Petal Length Across Dataset Samples by Species')\n",
        "plt.xlabel('Sample Index')\n",
        "plt.ylabel('Petal Length (cm)')\n",
        "plt.legend(title='Species')\n",
        "plt.grid(axis='y', linestyle='--', alpha=0.5)\n",
        "\n",
        "# Save the plot\n",
        "plt.savefig('iris_line_plot.png')\n",
        "plt.show()"
      ],
      "metadata": {
        "id": "TPFDgxdVco58"
      },
      "execution_count": null,
      "outputs": []
    },
    {
      "cell_type": "code",
      "source": [
        "# default plot is a line chart\n",
        "fig = plt.figure(figsize=(10, 6))\n",
        "\n",
        "ax = df.plot() # assign to variable ax\n",
        "\n",
        "# Use ax to add titles and labels\n",
        "ax.set_title(\"Iris Dataset\")\n",
        "ax.set_xlabel(\"Data Points\")\n",
        "ax.set_ylabel(\"Length/Width (mm)\")\n"
      ],
      "metadata": {
        "id": "90-p_dMeb6Tn"
      },
      "execution_count": null,
      "outputs": []
    },
    {
      "cell_type": "code",
      "source": [
        "#Add details to the line plot\n",
        "# 1. Create the Figure and Axes objects\n",
        "fig, ax = plt.subplots(figsize=(10, 6))\n",
        "\n",
        "# 2. Iterate through columns and plot each one as a line\n",
        "# Pandas plot() automatically uses the DataFrame index (0 to 149) for the x-axis.\n",
        "for column in df.columns[:-1]:  # Exclude the 'species' column\n",
        "    ax.plot(df.index, df[column], label=column)\n",
        "\n",
        "# 3. Add titles and labels using the axes object\n",
        "ax.set_title(\"Iris Dataset\")\n",
        "ax.set_xlabel(\"Data Points (Sample Index)\")\n",
        "ax.set_ylabel(\"Length/Width (cm)\") # Corrected unit from 'mm' to 'cm' for Iris data\n",
        "\n",
        "# 4. Add a legend to distinguish the lines\n",
        "ax.legend(loc='upper right')\n",
        "\n",
        "# 5. Display the plot\n",
        "plt.show()"
      ],
      "metadata": {
        "id": "nTmKqImney7Y"
      },
      "execution_count": null,
      "outputs": []
    },
    {
      "cell_type": "markdown",
      "source": [
        "###7) Two-variable relationship — scatter plot\n",
        "\n",
        "Goal: inspect relationship between sepal_length and sepal_width.\n",
        "\n",
        "A scatter plot is excellent for visualizing the distribution and separation of the three species based on two features. Let's plot sepal length vs. sepal width."
      ],
      "metadata": {
        "id": "HFTvwJeErI66"
      }
    },
    {
      "cell_type": "code",
      "source": [
        "#Scatterplot of sepal length to sepal width\n",
        "plt.figure(figsize=(10,6))\n",
        "plt.scatter(df['sepal length (cm)'], df['sepal width (cm)'], s=40, edgecolors='k', alpha=0.7)\n",
        "plt.title('Sepal Length vs Sepal Width')\n",
        "plt.xlabel('Sepal length (cm)')\n",
        "plt.ylabel('Sepal width (cm)')\n",
        "plt.show()\n",
        "\n",
        "#Similarly we can plot scatterplot of petal length to petal width"
      ],
      "metadata": {
        "id": "VKM2ka4YrYOC"
      },
      "execution_count": null,
      "outputs": []
    },
    {
      "cell_type": "code",
      "source": [
        "# We use plt.subplots() to create a figure and a set of axes, which gives us more control over the plot elements.\n",
        "#Create figure and axes\n",
        "fig, ax = plt.subplots(figsize=(10, 6))\n",
        "\n",
        "# Scatter plot for each species\n",
        "ax.scatter(setosa['petal length (cm)'], setosa['petal width (cm)'],\n",
        "           label='Setosa', marker='o', color='blue')\n",
        "ax.scatter(versicolor['petal length (cm)'], versicolor['petal width (cm)'],\n",
        "           label='Versicolor', marker='s', color='green') # 's' is a square marker\n",
        "ax.scatter(virginica['petal length (cm)'], virginica['petal width (cm)'],\n",
        "           label='Virginica', marker='^', color='red') # '^' is a triangle marker\n",
        "\n",
        "# Set plot title and labels\n",
        "ax.set_title('Iris Petal Length vs Petal Width by Species')\n",
        "ax.set_xlabel('Petal Length (cm)')\n",
        "ax.set_ylabel('Petal Width (cm)')\n",
        "\n",
        "# Add a legend\n",
        "ax.legend(loc='upper left')\n",
        "\n",
        "# Add grid lines for readability\n",
        "ax.grid(True, linestyle='--', alpha=0.6)\n",
        "\n",
        "# Display the plot\n",
        "plt.show()"
      ],
      "metadata": {
        "id": "5Yt-ne3DsEmv"
      },
      "execution_count": null,
      "outputs": []
    },
    {
      "cell_type": "code",
      "source": [
        "#Annotate interesting points - Max petal length point\n",
        "#Goal: highlight or label specific datapoints in a scatter.\n",
        "\n",
        "plt.figure(figsize=(10,6))\n",
        "plt.scatter(df['petal length (cm)'], df['petal width (cm)'], alpha=0.7)\n",
        "# Annotate the max petal_length point\n",
        "idx = df['petal length (cm)'].idxmax()\n",
        "plt.annotate('max petal length',\n",
        "             xy=(df.loc[idx,'petal length (cm)'], df.loc[idx,'petal width (cm)']),\n",
        "             xytext=(4.5, 1.5),\n",
        "             arrowprops=dict(arrowstyle='->'))\n",
        "plt.xlabel('Petal length (cm)')\n",
        "plt.ylabel('Petal width (cm)')\n",
        "plt.show()\n"
      ],
      "metadata": {
        "id": "G7QK0sS_y9a9"
      },
      "execution_count": null,
      "outputs": []
    },
    {
      "cell_type": "code",
      "source": [
        "#Multi-panel figure (combine plots)\n",
        "#Goal: put related plots side-by-side for comparison\n",
        "\n",
        "fig, ax = plt.subplots(1,2, figsize=(10,6))\n",
        "ax[0].scatter(df['sepal length (cm)'], df['sepal width (cm)'])\n",
        "ax[0].set_title('Sepal')\n",
        "ax[0].set_xlabel('Length'); ax[0].set_ylabel('Width')\n",
        "\n",
        "ax[1].scatter(df['petal length (cm)'], df['petal width (cm)'])\n",
        "ax[1].set_title('Petal')\n",
        "ax[1].set_xlabel('Length'); ax[1].set_ylabel('Width')\n",
        "\n",
        "plt.tight_layout()\n",
        "plt.show()\n"
      ],
      "metadata": {
        "id": "E5qamiR4zPZC"
      },
      "execution_count": null,
      "outputs": []
    },
    {
      "cell_type": "code",
      "source": [
        "# Combine multiple comparisons using FacetGrid - seaborn library\n",
        "g = sns.FacetGrid(df, col='species', height=4)\n",
        "g.map_dataframe(sns.scatterplot, x='petal length (cm)', y='petal width (cm)', color='purple', alpha=0.7)\n",
        "g.set_titles('{col_name}')\n",
        "g.fig.suptitle('Petal Length vs Petal Width by Species', y=1.05)\n",
        "plt.show()"
      ],
      "metadata": {
        "id": "XFBnBSIiArpr"
      },
      "execution_count": null,
      "outputs": []
    },
    {
      "cell_type": "markdown",
      "source": [
        "####Combined Histogram and Scatter Plot\n",
        "Let us generate combined Histogram and Scatter Plot"
      ],
      "metadata": {
        "id": "wPJOr4M7fkiF"
      }
    },
    {
      "cell_type": "code",
      "source": [
        "# Subplots of the three species: setosa, virginica, and versicolor\n",
        "fig, axes = plt.subplots(nrows=2, ncols=3, figsize=(18, 8))\n",
        "\n",
        "# First row of charts - histograms\n",
        "axes[0,0].hist(setosa[\"sepal length (cm)\"], bins=20, color='blue', alpha=0.7)\n",
        "axes[0,0].set_title('Iris Setosa - Sepal Length')\n",
        "axes[0,0].set_ylabel('Frequency')\n",
        "\n",
        "axes[0,1].hist(versicolor[\"sepal length (cm)\"], bins=20, color='green', alpha=0.7)\n",
        "axes[0,1].set_title('Iris Versicolor - Sepal Length')\n",
        "\n",
        "axes[0,2].hist(virginica[\"sepal length (cm)\"], bins=20, color='orange', alpha=0.7)\n",
        "axes[0,2].set_title('Iris Virginica - Sepal Length')\n",
        "\n",
        "# Second row of charts - scatter plots\n",
        "axes[1,0].scatter(setosa[\"sepal length (cm)\"], setosa[\"sepal width (cm)\"])\n",
        "axes[1,0].set_title('Iris Setosa')\n",
        "axes[1,0].set_xlabel('Sepal Length')\n",
        "axes[1,0].set_ylabel('Sepal Width')\n",
        "\n",
        "axes[1,1].scatter(versicolor[\"sepal length (cm)\"], versicolor[\"sepal width (cm)\"])\n",
        "axes[1,1].set_title('Iris Versicolor')\n",
        "axes[1,1].set_xlabel('Sepal Length')\n",
        "axes[1,1].set_ylabel('Sepal Width')\n",
        "\n",
        "axes[1,2].scatter(virginica[\"sepal length (cm)\"], virginica[\"sepal width (cm)\"])\n",
        "axes[1,2].set_title('Iris Virginica')\n",
        "axes[1,2].set_xlabel('Sepal Length')\n",
        "axes[1,2].set_ylabel('Sepal Width')\n",
        "\n",
        "# Adjust layout to prevent clipping of titles\n",
        "plt.tight_layout()\n",
        "\n",
        "# Show the plots\n",
        "plt.show()"
      ],
      "metadata": {
        "id": "BNXw8N3OfpTw"
      },
      "execution_count": null,
      "outputs": []
    },
    {
      "cell_type": "markdown",
      "source": [
        "###8) Box Plots for Feature Comparison\n",
        "Goal: compare distributions across species for a single feature.\n",
        "\n",
        "Box plots (or box-and-whisker plots) are excellent for visualizing the distribution, central tendency (median), and variability (IQR) of a numerical feature for each categorical group. We can use them to compare the features across the three Iris species."
      ],
      "metadata": {
        "id": "IWz5B6OmtWms"
      }
    },
    {
      "cell_type": "code",
      "source": [
        "plt.figure(figsize=(10,6))\n",
        "df.boxplot(column='sepal length (cm)', by='species', grid=False)\n",
        "plt.title('Sepal length by species')\n",
        "plt.suptitle('')   # remove automatic subtitle\n",
        "plt.xlabel('Species')\n",
        "plt.ylabel('Sepal length (cm)')\n",
        "plt.show()\n"
      ],
      "metadata": {
        "id": "Ug0DBay5uCU1"
      },
      "execution_count": null,
      "outputs": []
    },
    {
      "cell_type": "code",
      "source": [
        "# Box Plot of Sepal Width by Species (using Matplotlib raw)\n",
        "# 1. Prepare data for plotting\n",
        "# Create a list of sepal width data, grouped by species\n",
        "sepal_width_data = [\n",
        "    df[df['species'] == 'setosa']['sepal width (cm)'],\n",
        "    df[df['species'] == 'versicolor']['sepal width (cm)'],\n",
        "    df[df['species'] == 'virginica']['sepal width (cm)']\n",
        "]\n",
        "\n",
        "# 2. Create the plot\n",
        "fig, ax = plt.subplots(figsize=(8, 6))\n",
        "\n",
        "# The boxplot function takes a list of arrays (one for each box)\n",
        "ax.boxplot(sepal_width_data, patch_artist=True,  # Fill boxes with color\n",
        "           medianprops={'color': 'black'})     # Style the median line\n",
        "\n",
        "# 3. Customize the plot\n",
        "ax.set_xticklabels(df['species'].unique())\n",
        "ax.set_title('Box Plot of Sepal Width by Iris Species')\n",
        "ax.set_xlabel('Species')\n",
        "ax.set_ylabel('Sepal Width (cm)')\n",
        "ax.grid(axis='y', linestyle='--', alpha=0.7) # Add horizontal grid lines\n",
        "\n",
        "# Display the plot\n",
        "plt.show()\n"
      ],
      "metadata": {
        "id": "xrXDJlb2tVYo"
      },
      "execution_count": null,
      "outputs": []
    },
    {
      "cell_type": "markdown",
      "source": [
        "Observation: A box plot clearly shows that Iris-setosa generally has a larger sepal width compared to the other two species, with its box positioned higher on the y-axis.\n",
        "\n",
        "###9) Violin Plot (Alternative to BoxPlot)\n",
        "Goal: show KDE + distribution shape per species\n",
        "\n",
        "The violin plot visualizes the distribution of Petal Length for each species, combining the information of a box plot with a kernel density estimate.\n",
        "\n",
        "Here we shall be using (matplotlib via seaborn)."
      ],
      "metadata": {
        "id": "jWvQ8CyItxvK"
      }
    },
    {
      "cell_type": "code",
      "source": [
        "import seaborn as sns\n",
        "# Generating Violin Plot (basic)\n",
        "plt.figure(figsize=(10,6))\n",
        "sns.violinplot(x='species', y='petal length (cm)', data=df)\n",
        "plt.title('Petal length distribution by species')\n",
        "plt.show()\n",
        "\n"
      ],
      "metadata": {
        "id": "IskiIgj7wiqe"
      },
      "execution_count": null,
      "outputs": []
    },
    {
      "cell_type": "code",
      "source": [
        "#Generating Violin Plot with better visualization\n",
        "plt.figure(figsize=(10, 6))\n",
        "\n",
        "# Generate the Violin Plot for Petal Length by Species\n",
        "sns.violinplot(\n",
        "    x='species',\n",
        "    y='petal length (cm)',\n",
        "    hue='species',\n",
        "    data=df,\n",
        "    inner='quartile', # Displays the quartiles (25th, 50th/median, 75th percentile)\n",
        "    palette='viridis' # Color palette\n",
        ")\n",
        "\n",
        "plt.title('Violin Plot of Petal Length by Iris Species')\n",
        "plt.xlabel('Species')\n",
        "plt.ylabel('Petal Length (cm)')\n",
        "plt.grid(axis='y', linestyle='--', alpha=0.7)\n",
        "plt.show()"
      ],
      "metadata": {
        "id": "2jVG0Z13wyVt"
      },
      "execution_count": null,
      "outputs": []
    },
    {
      "cell_type": "markdown",
      "source": [
        "Violin Plot: Petal Length Distribution\n",
        "\n",
        "The violin plot visualizes the distribution of Petal Length for each species, combining the information of a box plot with a kernel density estimate.\n",
        "\n",
        "Setosa (Blue): Shows a very tight, narrow distribution with small petal lengths.\n",
        "\n",
        "Versicolor (Green): Exhibits a wider, more spread-out distribution in the middle range.\n",
        "\n",
        "Virginica (Yellow): Has the largest petal lengths, with a distribution that is also relatively wide.\n",
        "\n",
        "The plot shows the stark separation of the three species based on petal length, which is a strong feature for classification."
      ],
      "metadata": {
        "id": "uZo6_rbBxt9h"
      }
    },
    {
      "cell_type": "markdown",
      "source": [
        "###Grouped Violin Plot\n",
        "Petal Length and Width and Sepal Length and Width can be plotted together for better visualization."
      ],
      "metadata": {
        "id": "-IFG_4Pob7Ri"
      }
    },
    {
      "cell_type": "code",
      "source": [
        "# The violinplot shows density of the length and width in the species\n",
        "# Denser regions of the data are fatter, and sparser thiner in a violin plot\n",
        "plt.figure(figsize=(10,6))\n",
        "plt.subplot(2,2,1)\n",
        "sns.violinplot(x='species', y='petal length (cm)', hue='species', data=df, inner='quartile', palette='viridis')\n",
        "plt.subplot(2,2,2)\n",
        "sns.violinplot(x='species', y='petal width (cm)', hue='species', data=df, inner='quartile', palette='viridis')\n",
        "plt.subplot(2,2,3)\n",
        "sns.violinplot(x='species', y='sepal length (cm)', hue='species', data=df, inner='quartile', palette='viridis' )\n",
        "plt.subplot(2,2,4)\n",
        "sns.violinplot(x='species', y='sepal width (cm)', hue='species', data=df, inner='quartile', palette='viridis' )\n",
        "\n",
        "plt.show()"
      ],
      "metadata": {
        "id": "AIP9gemDcAw-"
      },
      "execution_count": null,
      "outputs": []
    },
    {
      "cell_type": "markdown",
      "source": [
        "***Violin Plot:*** Petal Length Distribution\n",
        "\n",
        "The violin plot visualizes the distribution of Petal Length for each species, combining the information of a box plot with a kernel density estimate.\n",
        "\n",
        "Setosa (Blue): Shows a very tight, narrow distribution with small petal lengths.\n",
        "\n",
        "Versicolor (Green): Exhibits a wider, more spread-out distribution in the middle range.\n",
        "\n",
        "Virginica (Yellow): Has the largest petal lengths, with a distribution that is also relatively wide.\n",
        "\n",
        "The plot shows the stark separation of the three species based on petal length, which is a strong feature for classification."
      ],
      "metadata": {
        "id": "MKygWOOFcLWs"
      }
    },
    {
      "cell_type": "markdown",
      "source": [
        "###10) Bar Chart for Mean Feature Values\n",
        "Goal: Display Mean Value Features\n",
        "\n",
        "A bar chart can effectively compare the average (mean) value of a feature across the different species."
      ],
      "metadata": {
        "id": "zmPClTr7xIMS"
      }
    },
    {
      "cell_type": "code",
      "source": [
        "# 1. Calculate the mean petal length for each species\n",
        "mean_petal_length = df.groupby('species')['petal length (cm)'].mean()\n",
        "\n",
        "# 2. Create the plot\n",
        "fig, ax = plt.subplots(figsize=(10, 6))\n",
        "\n",
        "# The bar function is used to create the bar chart\n",
        "# x-axis are the species names, y-axis are the mean values\n",
        "bars = ax.bar(mean_petal_length.index, mean_petal_length.values, color=['blue', 'green', 'red'], alpha=0.7)\n",
        "\n",
        "# 3. Customize the plot\n",
        "ax.set_title('Mean Petal Length by Iris Species')\n",
        "ax.set_xlabel('Species')\n",
        "ax.set_ylabel('Mean Petal Length (cm)')\n",
        "\n",
        "# Optional: Add the mean value on top of each bar\n",
        "for bar in bars:\n",
        "    height = bar.get_height()\n",
        "    ax.text(bar.get_x() + bar.get_width()/2., height + 0.05,\n",
        "            f'{height:.2f}',\n",
        "            ha='center', va='bottom')\n",
        "\n",
        "# Display the plot\n",
        "plt.show()"
      ],
      "metadata": {
        "id": "DrCbSfYwxUsN"
      },
      "execution_count": null,
      "outputs": []
    },
    {
      "cell_type": "markdown",
      "source": [
        "Observation: The bar chart visually confirms that the species are well-separated based on this feature, with Iris-virginica having the largest mean petal length and Iris-setosa the smallest."
      ],
      "metadata": {
        "id": "5gWu8LA5yMvt"
      }
    },
    {
      "cell_type": "markdown",
      "source": [
        "###11) Pie Diagram"
      ],
      "metadata": {
        "id": "4aCcfaQK0VK1"
      }
    },
    {
      "cell_type": "code",
      "source": [
        "# 1. Calculate the count of each species\n",
        "species_counts = df['species'].value_counts()\n",
        "\n",
        "# 2. Create the plot\n",
        "fig, ax = plt.subplots(figsize=(8, 8))\n",
        "\n",
        "# The pie function takes the values and labels\n",
        "ax.pie(species_counts.values,\n",
        "       labels=species_counts.index,\n",
        "       autopct='%1.1f%%', # Display percentages\n",
        "       startangle=90,\n",
        "       colors=['lightcoral', 'skyblue', 'lightgreen'],\n",
        "       explode=(0.05, 0, 0), # Explode the first slice (Setosa)\n",
        "       wedgeprops={'edgecolor': 'black', 'linewidth': 1}\n",
        "      )\n",
        "\n",
        "# Set the title\n",
        "ax.set_title('Distribution of Iris Species in the Dataset', fontsize=16)\n",
        "\n",
        "# Ensure the pie chart is circular\n",
        "ax.axis('equal')\n",
        "\n",
        "plt.show()"
      ],
      "metadata": {
        "id": "PZ_msG150c6g"
      },
      "execution_count": null,
      "outputs": []
    },
    {
      "cell_type": "markdown",
      "source": [
        "###12) Donut Diagram\n",
        "A Donut Chart is a variation of the pie chart that shows the relationship of parts to a whole but with a blank center. It is often considered aesthetically cleaner than a standard pie chart.\n",
        "\n",
        "The Donut Chart illustrating the balanced distribution of the three Iris species in the dataset has been created."
      ],
      "metadata": {
        "id": "8wX7RoiP0wI6"
      }
    },
    {
      "cell_type": "code",
      "source": [
        "# --- Donut Chart Code ---\n",
        "\n",
        "# 1. Calculate the count of each species\n",
        "species_counts = df['species'].value_counts()\n",
        "\n",
        "# 2. Create the plot\n",
        "fig, ax = plt.subplots(figsize=(8, 8))\n",
        "\n",
        "# Define the properties for the donut hole (width determines the thickness of the ring)\n",
        "donut_properties = {'width': 0.3, 'edgecolor': 'black', 'linewidth': 1}\n",
        "\n",
        "# The pie function creates the segments\n",
        "ax.pie(species_counts.values,\n",
        "       labels=species_counts.index,\n",
        "       autopct='%1.1f%%',       # Display percentages\n",
        "       startangle=90,\n",
        "       colors=['coral', 'skyblue', 'lightgreen'],\n",
        "       explode=(0.05, 0, 0),     # Explode the first slice for emphasis\n",
        "       wedgeprops=donut_properties # Creates the donut hole\n",
        "      )\n",
        "\n",
        "# Set the title\n",
        "ax.set_title('Donut Chart of Iris Species Distribution', fontsize=16)\n",
        "\n",
        "# Ensure the chart is circular\n",
        "ax.axis('equal')\n",
        "\n",
        "plt.show()"
      ],
      "metadata": {
        "id": "Fp5pPK5005FD"
      },
      "execution_count": null,
      "outputs": []
    },
    {
      "cell_type": "markdown",
      "source": [
        "\n",
        "###13) Correlation heatmap (feature correlation)\n",
        "\n",
        "Goal: spot strongly/weakly correlated numeric features.\n",
        "\n",
        "The heatmap displays the pairwise Pearson correlation coefficient for all four numerical features in the dataset. Values close to $1$ (red) indicate a strong positive correlation, while values close to $-1$ (blue) indicate a strong negative correlation."
      ],
      "metadata": {
        "id": "eS_rAM7wxcND"
      }
    },
    {
      "cell_type": "code",
      "source": [
        "corr = df.iloc[:, :-1].corr()   # drop species\n",
        "plt.figure(figsize=(10,6))\n",
        "plt.imshow(corr, cmap='viridis', interpolation='nearest')\n",
        "plt.colorbar(label='corr')\n",
        "plt.xticks(range(len(corr)), corr.columns, rotation=45)\n",
        "plt.yticks(range(len(corr)), corr.columns)\n",
        "plt.title('Feature Correlation Matrix (Matplotlib)')\n",
        "plt.show()\n",
        "\n"
      ],
      "metadata": {
        "id": "C-yVZAKWyTsL"
      },
      "execution_count": null,
      "outputs": []
    },
    {
      "cell_type": "code",
      "source": [
        "# Correlation Heatmap (using Seaborn)\n",
        "# Select only the numeric features for correlation calculation\n",
        "numeric_df = df.drop(columns=['species'])\n",
        "correlation_matrix = numeric_df.corr()\n",
        "\n",
        "# Create the Heatmap\n",
        "plt.figure(figsize=(10, 6))\n",
        "sns.heatmap(\n",
        "    correlation_matrix,\n",
        "    annot=True,     # Display the correlation values on the map\n",
        "    cmap='coolwarm', # Color scheme: cool for negative, warm for positive\n",
        "    fmt=\".2f\",      # Format annotations to two decimal places\n",
        "    linewidths=.5,\n",
        "    linecolor='black'\n",
        ")\n",
        "plt.title('Correlation Heatmap of Iris Dataset Features')\n",
        "plt.show()"
      ],
      "metadata": {
        "id": "JDzQlN6DydbL"
      },
      "execution_count": null,
      "outputs": []
    },
    {
      "cell_type": "markdown",
      "source": [
        "###14) Save Figures\n",
        "Goal: export a plot to PNG (or PDF/SVG).\n",
        "\n",
        "To save the plots we generated earlier (Scatter Plot, Histogram, Box Plot, Violin Plot, and Heatmap) using Matplotlib's plt.savefig() function.\n",
        "\n",
        "You simply replace plt.show() with plt.savefig('your_filename.png') within your plotting code blocks."
      ],
      "metadata": {
        "id": "N08zPE-Tzwr1"
      }
    },
    {
      "cell_type": "code",
      "source": [
        "plt.figure(figsize=(10,5))\n",
        "plt.scatter(df['sepal length (cm)'], df['sepal width (cm)'], s=40, edgecolors='k', alpha=0.7)\n",
        "plt.title('Sepal Length vs Sepal Width')\n",
        "plt.xlabel('Sepal length (cm)')\n",
        "plt.ylabel('Sepal width (cm)')\n",
        "plt.savefig('iris_petal_scatter.png', dpi=300, bbox_inches='tight')\n",
        "plt.close()   # close when running scripts\n"
      ],
      "metadata": {
        "id": "02r5bbdjz6AV"
      },
      "execution_count": null,
      "outputs": []
    },
    {
      "cell_type": "markdown",
      "source": [
        "####Combined Code for printing all graphs in one go"
      ],
      "metadata": {
        "id": "JTrULSEyjJH6"
      }
    },
    {
      "cell_type": "code",
      "source": [
        "# =======================================================\n",
        "## 1. Scatter Plot (Petal Length vs. Petal Width)\n",
        "# =======================================================\n",
        "fig, ax = plt.subplots(figsize=(10, 6))\n",
        "ax.scatter(setosa['petal length (cm)'], setosa['petal width (cm)'], label='Setosa', marker='o', color='blue')\n",
        "ax.scatter(versicolor['petal length (cm)'], versicolor['petal width (cm)'], label='Versicolor', marker='s', color='green')\n",
        "ax.scatter(virginica['petal length (cm)'], virginica['petal width (cm)'], label='Virginica', marker='^', color='red')\n",
        "ax.set_title('Iris Petal Length vs Petal Width by Species')\n",
        "ax.set_xlabel('Petal Length (cm)')\n",
        "ax.set_ylabel('Petal Width (cm)')\n",
        "ax.legend(loc='upper left')\n",
        "ax.grid(True, linestyle='--', alpha=0.6)\n",
        "\n",
        "# Save the plot\n",
        "plt.savefig('iris_scatter_plot.png')\n",
        "plt.close(fig) # Close the figure to free up memory\n",
        "\n",
        "# =======================================================\n",
        "## 2. Histogram (Sepal Length Distribution)\n",
        "# =======================================================\n",
        "fig, ax = plt.subplots(figsize=(10, 6))\n",
        "plt.hist(setosa['sepal length (cm)'], bins=10, alpha=0.6, label='Setosa')\n",
        "plt.hist(versicolor['sepal length (cm)'], bins=10, alpha=0.6, label='Versicolor')\n",
        "plt.hist(virginica['sepal length (cm)'], bins=10, alpha=0.6, label='Virginica')\n",
        "plt.title('Distribution of Sepal Length by Species')\n",
        "plt.xlabel('Sepal Length (cm)')\n",
        "plt.ylabel('Frequency')\n",
        "plt.legend(loc='upper right')\n",
        "\n",
        "# Save the plot\n",
        "plt.savefig('iris_histogram.png')\n",
        "plt.close(fig)\n",
        "\n",
        "# =======================================================\n",
        "## 3. Box Plot (Sepal Width Comparison)\n",
        "# =======================================================\n",
        "sepal_width_data = [\n",
        "    df[df['species'] == 'setosa']['sepal width (cm)'],\n",
        "    df[df['species'] == 'versicolor']['sepal width (cm)'],\n",
        "    df[df['species'] == 'virginica']['sepal width (cm)']\n",
        "]\n",
        "fig, ax = plt.subplots(figsize=(10, 6))\n",
        "ax.boxplot(sepal_width_data, patch_artist=True, medianprops={'color': 'black'})\n",
        "ax.set_xticklabels(df['species'].unique())\n",
        "ax.set_title('Box Plot of Sepal Width by Iris Species')\n",
        "ax.set_xlabel('Species')\n",
        "ax.set_ylabel('Sepal Width (cm)')\n",
        "ax.grid(axis='y', linestyle='--', alpha=0.7)\n",
        "\n",
        "# Save the plot\n",
        "plt.savefig('iris_box_plot.png')\n",
        "plt.close(fig)\n",
        "\n",
        "# =======================================================\n",
        "## 4. Violin Plot (Petal Length Distribution - using Seaborn)\n",
        "# =======================================================\n",
        "fig, ax = plt.subplots(figsize=(10, 6))\n",
        "sns.violinplot(x='species', y='petal length (cm)', hue='species', data=df, inner='quartile', palette='viridis', ax=ax)\n",
        "ax.set_title('Violin Plot of Petal Length by Iris Species')\n",
        "ax.set_xlabel('Species')\n",
        "ax.set_ylabel('Petal Length (cm)')\n",
        "ax.grid(axis='y', linestyle='--', alpha=0.7)\n",
        "\n",
        "# Save the plot\n",
        "plt.savefig('iris_violin_plot.png')\n",
        "plt.close(fig)\n",
        "\n",
        "# =======================================================\n",
        "## 5. Correlation Heatmap (using Seaborn)\n",
        "# =======================================================\n",
        "numeric_df = df.drop(columns=['species'])\n",
        "correlation_matrix = numeric_df.corr()\n",
        "\n",
        "fig, ax = plt.subplots(figsize=(10, 6))\n",
        "sns.heatmap(\n",
        "    correlation_matrix,\n",
        "    annot=True,\n",
        "    cmap='coolwarm',\n",
        "    fmt=\".2f\",\n",
        "    linewidths=.5,\n",
        "    linecolor='black',\n",
        "    ax=ax\n",
        ")\n",
        "ax.set_title('Correlation Heatmap of Iris Dataset Features')\n",
        "\n",
        "# Save the plot\n",
        "plt.savefig('iris_correlation_heatmap.png')\n",
        "plt.close(fig)\n",
        "\n",
        "print(\"All five plots have been saved as PNG files in the current directory.\")"
      ],
      "metadata": {
        "id": "YyABnpE10Tj9"
      },
      "execution_count": null,
      "outputs": []
    },
    {
      "cell_type": "markdown",
      "source": [
        "####Bubble Plot\n",
        "\n",
        "A bubble plot is essentially a scatter plot where a third variable (and sometimes a fourth) is represented by the size of the marker (bubble).\n",
        "\n",
        "In this plot:\n",
        "\n",
        "X-axis: sepal length (cm)\n",
        "\n",
        "Y-axis: sepal width (cm)\n",
        "\n",
        "Bubble Size (s): petal length (cm) (scaled up for visibility)\n",
        "\n",
        "Bubble Color (c): species\n",
        "\n",
        "This visualization allows you to see how sepal dimensions relate to petal size and species simultaneously."
      ],
      "metadata": {
        "id": "lLKtf8HaC3DU"
      }
    },
    {
      "cell_type": "code",
      "source": [
        "# --- Bubble Plot  ---\n",
        "\n",
        "import matplotlib.pyplot as plt\n",
        "from sklearn.datasets import load_iris\n",
        "import pandas as pd\n",
        "\n",
        "# Load the Iris dataset\n",
        "iris = load_iris()\n",
        "df = pd.DataFrame(iris.data, columns=iris.feature_names)\n",
        "df['species'] = [iris.target_names[i] for i in iris.target]\n",
        "df['target'] = iris.target  # Color mapping column\n",
        "\n",
        "#Set Image Size\n",
        "plt.figure(figsize=(10, 6))\n",
        "\n",
        "# Create the scatter (bubble) plot\n",
        "scatter = plt.scatter(\n",
        "    x=df['sepal length (cm)'],\n",
        "    y=df['sepal width (cm)'],\n",
        "    s=df['petal length (cm)'] * 50,   # Bubble size proportional to petal length\n",
        "    c=df['target'],                   # Color mapped by species target\n",
        "    cmap='viridis',\n",
        "    alpha=0.6,\n",
        "    edgecolors='w',\n",
        "    linewidth=0.5\n",
        ")\n",
        "\n",
        "# Get legend handles and labels\n",
        "handles, _ = scatter.legend_elements(num=3)\n",
        "# Add color legend for species\n",
        "plt.legend(handles, iris.target_names, title=\"Species\", loc=\"lower left\")\n",
        "\n",
        "# Add size legend for petal length\n",
        "handles, labels = scatter.legend_elements(prop=\"sizes\", alpha=0.6, num=[1, 2, 4, 6])\n",
        "plt.legend(handles, ['<1 cm', '2 cm', '4 cm', '>6 cm'],\n",
        "           loc=\"upper right\", title=\"Petal Length (cm)\")\n",
        "\n",
        "# Add titles and labels\n",
        "plt.title('Bubble Plot: Sepal Dimensions vs Petal Length', fontsize=14, fontweight='bold')\n",
        "plt.xlabel('Sepal Length (cm)', fontsize=12)\n",
        "plt.ylabel('Sepal Width (cm)', fontsize=12)\n",
        "plt.grid(True, linestyle='--', alpha=0.4)\n",
        "\n",
        "# Save and display the plot\n",
        "plt.savefig('iris_bubble_plot.png', bbox_inches='tight', dpi=300)\n",
        "plt.show()\n"
      ],
      "metadata": {
        "id": "723Aj0TBC4k_"
      },
      "execution_count": null,
      "outputs": []
    },
    {
      "cell_type": "markdown",
      "source": [
        "###15) Pair Plot\n",
        "a Pairplot is one of the most powerful tools for Exploratory Data Analysis (EDA) because it shows both feature distributions and relationships between features, all color-coded by species."
      ],
      "metadata": {
        "id": "ckjSx4l-yPta"
      }
    },
    {
      "cell_type": "code",
      "source": [
        "# Set Seaborn theme for clarity and visual appeal\n",
        "sns.set(style=\"ticks\", color_codes=True)\n",
        "\n",
        "# Create the Pairplot\n",
        "pairplot = sns.pairplot(\n",
        "    df,\n",
        "    hue='species',              # Color by species\n",
        "    diag_kind='kde',            # KDE curve on diagonal\n",
        "    palette='viridis',          # Modern color scheme\n",
        "    corner=False,               # Show full upper & lower triangles\n",
        "    plot_kws={'alpha': 0.6, 'edgecolor': 'k', 'linewidth': 0.5}\n",
        ")\n",
        "\n",
        "# Add a main title\n",
        "pairplot.fig.suptitle('Pairplot of Iris Dataset — Feature Relationships by Species',\n",
        "                      fontsize=14, fontweight='bold', y=1.02)\n",
        "\n",
        "# Display the plot\n",
        "plt.show()"
      ],
      "metadata": {
        "id": "OOzvSj9JyR2K"
      },
      "execution_count": null,
      "outputs": []
    },
    {
      "cell_type": "markdown",
      "source": [
        "###16) 3D Scatter Plot\n",
        "A 3D Scatter Plot is an excellent way to visualize the relationship between three numerical features and see if the classes (species) are linearly separable in three-dimensional space.\n",
        "\n",
        "The plot below uses the three most informative features for the Iris dataset:\n",
        "\n",
        "- X-axis: Petal Length\n",
        "\n",
        "- Y-axis: Petal Width\n",
        "\n",
        "- Z-axis: Sepal Length"
      ],
      "metadata": {
        "id": "GQnDwwnwypba"
      }
    },
    {
      "cell_type": "code",
      "source": [
        "# Define color mapping for each species\n",
        "colors = {'setosa': 'skyblue', 'versicolor': 'limegreen', 'virginica': 'coral'}\n",
        "\n",
        "# Create a 3D scatter plot\n",
        "fig = plt.figure(figsize=(10, 7))\n",
        "ax = fig.add_subplot(111, projection='3d')\n",
        "\n",
        "# Plot each species separately\n",
        "for species, color in colors.items():\n",
        "    subset = df[df['species'] == species]\n",
        "    ax.scatter(subset['petal length (cm)'],\n",
        "               subset['petal width (cm)'],\n",
        "               subset['sepal length (cm)'],\n",
        "               label=species,\n",
        "               color=color,\n",
        "               s=60,\n",
        "               edgecolors='k',\n",
        "               alpha=0.8)\n",
        "\n",
        "# Set axis labels\n",
        "ax.set_xlabel('Petal Length (cm)', labelpad=10)\n",
        "ax.set_ylabel('Petal Width (cm)', labelpad=10)\n",
        "ax.set_zlabel('Sepal Length (cm)', labelpad=10)\n",
        "ax.set_title('3D Scatter Plot — Iris Dataset', fontsize=14, fontweight='bold')\n",
        "\n",
        "# Add legend and grid\n",
        "ax.legend(title='Species')\n",
        "ax.grid(True, linestyle='--', alpha=0.5)\n",
        "\n",
        "# Display the plot\n",
        "plt.tight_layout()\n",
        "plt.show()"
      ],
      "metadata": {
        "id": "7U2HM2F8yqXH"
      },
      "execution_count": null,
      "outputs": []
    },
    {
      "cell_type": "markdown",
      "source": [
        "###17) Swarm Plot\n",
        "A Swarm Plot (using Seaborn) is a great way to visualize the distribution of a feature across categories by plotting all individual data points without overlap. It is a good alternative to a box plot or violin plot for small to medium-sized datasets like the Iris dataset, as it shows the actual data points."
      ],
      "metadata": {
        "id": "FOnZntYz2f_U"
      }
    },
    {
      "cell_type": "code",
      "source": [
        "plt.figure(figsize=(10, 6))\n",
        "\n",
        "# Generate the swarm plot\n",
        "sns.swarmplot(\n",
        "    x='species',\n",
        "    y='petal length (cm)',\n",
        "    data=df,\n",
        "    palette='viridis',\n",
        "    size=6\n",
        ")\n",
        "\n",
        "plt.title('Swarm Plot of Petal Length by Iris Species')\n",
        "plt.xlabel('Species')\n",
        "plt.ylabel('Petal Length (cm)')\n",
        "plt.grid(axis='y', linestyle='--', alpha=0.5)\n",
        "\n",
        "plt.show()"
      ],
      "metadata": {
        "id": "-ebFh-842mcE"
      },
      "execution_count": null,
      "outputs": []
    },
    {
      "cell_type": "markdown",
      "source": [
        "###18)Radar Plot\n",
        "A Radar Plot (or Spider Chart) is an effective way to compare multiple quantitative variables across different categories. For the Iris dataset, it is used here to compare the average measurements of all four features for each of the three species."
      ],
      "metadata": {
        "id": "s7U0MwDf3SdE"
      }
    },
    {
      "cell_type": "code",
      "source": [
        "# --- Data Aggregation ---\n",
        "# Calculate the mean of each feature for each species\n",
        "df_avg = df.groupby('species')[df.columns[:-1]].mean().reset_index()\n",
        "\n",
        "# Extract the data and feature labels\n",
        "features = df.columns[:-1]\n",
        "setosa_data = df_avg[df_avg['species'] == 'setosa'].iloc[0, 1:].values\n",
        "versicolor_data = df_avg[df_avg['species'] == 'versicolor'].iloc[0, 1:].values\n",
        "virginica_data = df_avg[df_avg['species'] == 'virginica'].iloc[0, 1:].values\n",
        "\n",
        "# --- Radar Plot Setup ---\n",
        "\n",
        "N = len(features)\n",
        "# Create an array of angles\n",
        "angles = np.linspace(0, 2 * np.pi, N, endpoint=False)\n",
        "\n",
        "# Make data circular (connects the last point to the first)\n",
        "setosa_data = np.concatenate((setosa_data, [setosa_data[0]]))\n",
        "versicolor_data = np.concatenate((versicolor_data, [versicolor_data[0]]))\n",
        "virginica_data = np.concatenate((virginica_data, [virginica_data[0]]))\n",
        "angles = np.concatenate((angles, [angles[0]]))\n",
        "\n",
        "# --- Plotting ---\n",
        "fig, ax = plt.subplots(figsize=(8, 8), subplot_kw=dict(polar=True))\n",
        "\n",
        "# Plot and fill the areas for each species\n",
        "ax.plot(angles, setosa_data, linewidth=2, linestyle='solid', label='Setosa', color='blue', alpha=0.7)\n",
        "ax.fill(angles, setosa_data, 'blue', alpha=0.1)\n",
        "ax.plot(angles, versicolor_data, linewidth=2, linestyle='solid', label='Versicolor', color='green', alpha=0.7)\n",
        "ax.fill(angles, versicolor_data, 'green', alpha=0.1)\n",
        "ax.plot(angles, virginica_data, linewidth=2, linestyle='solid', label='Virginica', color='red', alpha=0.7)\n",
        "ax.fill(angles, virginica_data, 'red', alpha=0.1)\n",
        "\n",
        "# Set the labels for each axis\n",
        "ax.set_xticks(angles[:-1])\n",
        "feature_labels = [f.replace(' (cm)', '').replace(' ', '\\n') for f in features]\n",
        "ax.set_xticklabels(feature_labels, fontsize=12)\n",
        "\n",
        "# Set the range and ticks for the radial axis\n",
        "ax.set_yticks(np.arange(0, 8, 2))\n",
        "ax.set_ylim(0, 8)\n",
        "ax.set_yticklabels([f'{i:.0f}' for i in np.arange(0, 8, 2)], color=\"gray\", size=10)\n",
        "\n",
        "ax.set_title('Average Feature Measurements by Iris Species', size=16, y=1.1)\n",
        "ax.legend(loc='upper right', bbox_to_anchor=(0.1, 0.1))\n",
        "\n",
        "plt.show()"
      ],
      "metadata": {
        "id": "OlBCXm1i3XOn"
      },
      "execution_count": null,
      "outputs": []
    },
    {
      "cell_type": "markdown",
      "source": [
        "###19) Joint Plot\n",
        "Joint Plot: Detailed Bivariate Relationship\n",
        "A Joint Plot combines a bivariate plot (scatter or KDE) with univariate plots (histograms or KDEs) on the margins, giving a focused, detailed look at two variables."
      ],
      "metadata": {
        "id": "nZQUTICt-FOy"
      }
    },
    {
      "cell_type": "code",
      "source": [
        "# Use 'kind=\"scatter\"' for a scatter plot with marginal histograms\n",
        "sns.jointplot(x='sepal length (cm)', y='petal length (cm)', data=df, hue='species', kind='scatter', palette='viridis')\n",
        "plt.suptitle('Joint Plot: Sepal Length vs. Petal Length', y=1.02)\n",
        "plt.show()\n",
        "\n",
        "# Use 'kind=\"kde\"' for a 2D density plot with marginal KDEs\n",
        "sns.jointplot(x='sepal length (cm)', y='petal length (cm)', data=df, kind='kde', fill=True, cmap='rocket')\n",
        "plt.suptitle('Joint KDE Plot', y=1.02)\n",
        "plt.show()"
      ],
      "metadata": {
        "id": "5LAEzEj3-SIn"
      },
      "execution_count": null,
      "outputs": []
    },
    {
      "cell_type": "markdown",
      "source": [
        "Summary of the Matplotlib and Seaborn library functions\n",
        "\n",
        "| Visualization Type\t| Matplotlib Function\t| Seaborn Replacement |\n",
        "| --- | --- | --- |\n",
        "| Histogram\t| plt.hist()\t| sns.histplot() |\n",
        "| Density Plot (KDE) |\tManual plt.plot() |\tsns.kdeplot() |\n",
        "| Line Plot\t| plt.plot()\t| sns.lineplot() |\n",
        "| Scatter Plot |\tplt.scatter()\t| sns.scatterplot() |\n",
        "| Box Plot | plt.boxplot()\t| sns.boxplot() |\n",
        "| Violin Plot\t| —\t| sns.violinplot()\n",
        "| Correlation Matrix\t| plt.imshow()\t| sns.heatmap()\n",
        "| Subplots\t| plt.subplots() |\tsns.FacetGrid() |\n",
        "| Bubble Plot\t| manual plt.scatter() |\tsns.scatterplot(size=...) |"
      ],
      "metadata": {
        "id": "vcFRs09c_WNF"
      }
    }
  ]
}